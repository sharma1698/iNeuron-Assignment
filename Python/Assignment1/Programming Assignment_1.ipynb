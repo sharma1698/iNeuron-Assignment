{
 "cells": [
  {
   "cell_type": "markdown",
   "id": "637b47a5",
   "metadata": {},
   "source": [
    "## Programming Assignment_1\n",
    "-------------"
   ]
  },
  {
   "cell_type": "markdown",
   "id": "0c647dbe",
   "metadata": {},
   "source": [
    "### 1. Write a Python program to print \"Hello Python\"?\n",
    " "
   ]
  },
  {
   "cell_type": "code",
   "execution_count": 7,
   "id": "01e41152",
   "metadata": {},
   "outputs": [
    {
     "name": "stdout",
     "output_type": "stream",
     "text": [
      "Hello Python\n"
     ]
    }
   ],
   "source": [
    "print(\"Hello Python\")"
   ]
  },
  {
   "cell_type": "markdown",
   "id": "fc18a6cd",
   "metadata": {},
   "source": [
    "### 2. Write a Python program to do arithmetical operations addition and division.?\n",
    "    "
   ]
  },
  {
   "cell_type": "code",
   "execution_count": 6,
   "id": "84c0e7e7",
   "metadata": {},
   "outputs": [
    {
     "name": "stdout",
     "output_type": "stream",
     "text": [
      "additon:  35 division:  0.5217391304347826\n"
     ]
    }
   ],
   "source": [
    "num1 = int(input(\"Enter first number\"))\n",
    "num2 = int(input(\"Enter second number\"))\n",
    "addition =  num1+num2\n",
    "division = num1/num2\n",
    "print(\"additon: \",addition , \"division: \",division)"
   ]
  },
  {
   "cell_type": "markdown",
   "id": "af6e2429",
   "metadata": {},
   "source": [
    "### 3. Write a Python program to find the area of a triangle?\n"
   ]
  },
  {
   "cell_type": "code",
   "execution_count": 8,
   "id": "16f59263",
   "metadata": {},
   "outputs": [
    {
     "name": "stdout",
     "output_type": "stream",
     "text": [
      "Area of triangle 9.92\n"
     ]
    }
   ],
   "source": [
    "a= float(input(\"Enter first side\"))\n",
    "b= float(input(\"Enter second side\"))\n",
    "c= float(input(\"Enter third side\"))\n",
    "sides = (a+b+c)/2\n",
    "area = (sides*(sides-a)*(sides-b)*(sides-c))**0.5\n",
    "print(\"Area of triangle %0.2f\"%area)"
   ]
  },
  {
   "cell_type": "markdown",
   "id": "b8140061",
   "metadata": {},
   "source": [
    "### 4. Write a Python program to swap two variables?\n"
   ]
  },
  {
   "cell_type": "code",
   "execution_count": 11,
   "id": "45ef665d",
   "metadata": {},
   "outputs": [
    {
     "name": "stdout",
     "output_type": "stream",
     "text": [
      "first number before swapping is 20\n",
      "second number before swapping is 30\n",
      "first number after swapping is 30\n",
      "second number after swapping is 20\n"
     ]
    }
   ],
   "source": [
    "var1 = int(input(\"Enter first number \"))\n",
    "var2 = int(input(\"Enter second number\"))\n",
    "\n",
    "print(\"first number before swapping is {}\".format(var1))\n",
    "print(\"second number before swapping is {}\".format(var2))\n",
    "var1 , var2 = var2, var1\n",
    "print(\"first number after swapping is {}\".format(var1))\n",
    "print(\"second number after swapping is {}\".format(var2))\n"
   ]
  },
  {
   "cell_type": "markdown",
   "id": "3f8054c1",
   "metadata": {},
   "source": [
    "### 5. Write a Python program to generate a random number?\n"
   ]
  },
  {
   "cell_type": "code",
   "execution_count": 18,
   "id": "edd849a2",
   "metadata": {},
   "outputs": [
    {
     "name": "stdout",
     "output_type": "stream",
     "text": [
      "2\n"
     ]
    }
   ],
   "source": [
    "import random as r \n",
    "num =r.randint(0,10)\n",
    "print(num)"
   ]
  }
 ],
 "metadata": {
  "kernelspec": {
   "display_name": "Python 3.10.0 64-bit",
   "language": "python",
   "name": "python3"
  },
  "language_info": {
   "codemirror_mode": {
    "name": "ipython",
    "version": 3
   },
   "file_extension": ".py",
   "mimetype": "text/x-python",
   "name": "python",
   "nbconvert_exporter": "python",
   "pygments_lexer": "ipython3",
   "version": "3.10.0"
  },
  "vscode": {
   "interpreter": {
    "hash": "944377379e12535b341fba11bb15d665e66987c036c7a23952c4d27b007480d2"
   }
  }
 },
 "nbformat": 4,
 "nbformat_minor": 5
}
