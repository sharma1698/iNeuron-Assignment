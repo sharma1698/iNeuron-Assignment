{
 "cells": [
  {
   "cell_type": "markdown",
   "id": "4ac9602a",
   "metadata": {},
   "source": [
    "## Python Basic Programming Assignment - 5\n",
    "--------------\n"
   ]
  },
  {
   "cell_type": "markdown",
   "id": "fdaeee06",
   "metadata": {},
   "source": [
    "### 1. Write a Python Program to Find LCM?"
   ]
  },
  {
   "cell_type": "code",
   "execution_count": 32,
   "id": "51ffba28",
   "metadata": {},
   "outputs": [
    {
     "name": "stdout",
     "output_type": "stream",
     "text": [
      "15\n"
     ]
    }
   ],
   "source": [
    "num1 = int(input(\"Enter first number\"))\n",
    "num2 = int(input(\"Enter second number\"))\n",
    "def lcmNum(val1 , val2):\n",
    "    if(val1>val2):\n",
    "        greater= val1\n",
    "    else:\n",
    "        greater= val2\n",
    "    while(True):\n",
    "        if(greater%val1==0 and greater%val2==0):\n",
    "            lcm= greater\n",
    "            break\n",
    "        greater+=1\n",
    "    return lcm\n",
    "\n",
    "print(lcmNum(num1, num2))   "
   ]
  },
  {
   "cell_type": "markdown",
   "id": "2f459cdf",
   "metadata": {},
   "source": [
    "### 2. Write a Python Program to Find HCF?"
   ]
  },
  {
   "cell_type": "code",
   "execution_count": 20,
   "id": "746f673c",
   "metadata": {},
   "outputs": [
    {
     "name": "stdout",
     "output_type": "stream",
     "text": [
      "6\n"
     ]
    }
   ],
   "source": [
    "num1 = int(input(\"Enter first number\"))\n",
    "num2 = int(input(\"Enter second number\"))\n",
    "def hcfNum(val1 , val2):\n",
    "    if(val1>val2):\n",
    "        smaller= val2\n",
    "    else:\n",
    "        smaller= val1\n",
    "    for i in range(1, smaller+1):\n",
    "        if(val1%i==0 and val2%i==0):\n",
    "            hcf= i\n",
    "    return hcf\n",
    "\n",
    "print(hcfNum(num1, num2))   \n"
   ]
  },
  {
   "cell_type": "markdown",
   "id": "d2c29370",
   "metadata": {},
   "source": [
    "### 3. Write a Python Program to Convert Decimal to Binary, Octal and Hexadecimal?"
   ]
  },
  {
   "cell_type": "code",
   "execution_count": 18,
   "id": "2fcc8835",
   "metadata": {},
   "outputs": [
    {
     "name": "stdout",
     "output_type": "stream",
     "text": [
      "1111\n"
     ]
    }
   ],
   "source": [
    "num = int(input(\"Enter number for conversions\"))\n",
    "convertTo = int(input(\"Enter the number in which you may want to convert in binary/Octal /Hexadecimal(2/8/16)\"))\n",
    "\n",
    "# Decimal to other conversions \n",
    "def num_to_switch(val):\n",
    "    hexa ={10: 'A', 11: 'B', 12: 'C',13: 'D', 14: 'E', 15: 'F'}\n",
    "    return hexa[val]\n",
    "\n",
    "def decmToConversion(num,decVal):\n",
    "    if(convertTo==2 or convertTo==8 or convertTo==16):\n",
    "        if(num==0):\n",
    "            if(convertTo==16 and int(decVal[::-1])>=10 and int(decVal[::-1])<=15 ):\n",
    "                print(num_to_switch(int(decVal[::-1])))\n",
    "            else:\n",
    "                print(decVal[::-1])\n",
    "            return 1\n",
    "\n",
    "        r= num%convertTo\n",
    "        decVal=decVal+str(r)\n",
    "        decmToConversion(num//convertTo , decVal)\n",
    "    else:\n",
    "        print(\"invalid\")\n",
    "\n",
    "decmToConversion(num,'')\n",
    "\n",
    "# or\n",
    "# print(bin(num).replace('0b',''))\n",
    "# print(oct(num).replace('0o',''))\n",
    "# print(hex(num).replace('0x',''))\n",
    "\n",
    "\n",
    "\n"
   ]
  },
  {
   "cell_type": "markdown",
   "id": "2a16c5fd",
   "metadata": {},
   "source": [
    "### 4. Write a Python Program To Find ASCII value of a character?"
   ]
  },
  {
   "cell_type": "code",
   "execution_count": 28,
   "id": "a2713a98",
   "metadata": {},
   "outputs": [
    {
     "name": "stdout",
     "output_type": "stream",
     "text": [
      "The ASCII value of 'a' is 97\n"
     ]
    }
   ],
   "source": [
    "alphabet = input(\"Enter character to find ASCII value\")\n",
    "print(\"The ASCII value of '\" + alphabet + \"' is\", ord(alphabet))"
   ]
  },
  {
   "cell_type": "markdown",
   "id": "226778a0",
   "metadata": {},
   "source": [
    "### 5. Write a Python Program to Make a Simple Calculator with 4 basic mathematical operations?"
   ]
  },
  {
   "cell_type": "code",
   "execution_count": 31,
   "id": "81c4ce03",
   "metadata": {},
   "outputs": [
    {
     "name": "stdout",
     "output_type": "stream",
     "text": [
      "additing two numbers is 7 subtracting two numbers is -1 multiplicationg two numbers is 12 dividing two numbers is 0.75\n"
     ]
    }
   ],
   "source": [
    "num1 = int(input(\"Enter first number\"))\n",
    "num2 = int(input(\"Enter second number\"))\n",
    "\n",
    "addition = num1+num2\n",
    "subtraction = num1-num2\n",
    "multiplication = num1*num2\n",
    "division = num1/num2\n",
    "print(\"additing two numbers is {}  \".format(addition) , \"subtracting two numbers is {}  \".format(subtraction)  , \"multiplicationg two numbers is {}  \".format(multiplication) , \"dividing two numbers is {}  \".format(division) )"
   ]
  }
 ],
 "metadata": {
  "kernelspec": {
   "display_name": "Python 3.10.0 64-bit",
   "language": "python",
   "name": "python3"
  },
  "language_info": {
   "codemirror_mode": {
    "name": "ipython",
    "version": 3
   },
   "file_extension": ".py",
   "mimetype": "text/x-python",
   "name": "python",
   "nbconvert_exporter": "python",
   "pygments_lexer": "ipython3",
   "version": "3.10.0"
  },
  "vscode": {
   "interpreter": {
    "hash": "944377379e12535b341fba11bb15d665e66987c036c7a23952c4d27b007480d2"
   }
  }
 },
 "nbformat": 4,
 "nbformat_minor": 5
}
