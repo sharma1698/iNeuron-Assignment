{
 "cells": [
  {
   "cell_type": "markdown",
   "id": "9b304197",
   "metadata": {},
   "source": [
    "# Python Basic Programming Assignment 8"
   ]
  },
  {
   "cell_type": "markdown",
   "id": "22789ae6",
   "metadata": {},
   "source": [
    "### 1. Write a Python Program to Add Two Matrices?"
   ]
  },
  {
   "cell_type": "code",
   "execution_count": 17,
   "id": "ebedf58c",
   "metadata": {},
   "outputs": [
    {
     "name": "stdout",
     "output_type": "stream",
     "text": [
      "[10, 10, 10]\n",
      "[10, 10, 10]\n",
      "[10, 10, 10]\n"
     ]
    }
   ],
   "source": [
    "X= [[1,2,3],[4 ,5,6],[7 ,8,9]]\n",
    "Y= [[9,8,7],[6,5,4],[3,2,1]]\n",
    "result = [[X[i][j]+Y[i][j] for j in range(0 , len(X[0]))] for i in range(0 , len(X))]\n",
    "for i in result:\n",
    "    print(i)\n",
    "\n"
   ]
  },
  {
   "cell_type": "markdown",
   "id": "044ceda6",
   "metadata": {},
   "source": [
    "### 2. Write a Python Program to Multiply Two Matrices?"
   ]
  },
  {
   "cell_type": "code",
   "execution_count": 10,
   "id": "a63ff350",
   "metadata": {},
   "outputs": [
    {
     "name": "stdout",
     "output_type": "stream",
     "text": [
      "[9, 16, 21]\n",
      "[24, 25, 24]\n",
      "[21, 16, 9]\n"
     ]
    }
   ],
   "source": [
    "X= [[1,2,3],[4 ,5,6],[7 ,8,9]]\n",
    "Y= [[9,8,7],[6,5,4],[3,2,1]]\n",
    "\n",
    "result = [[X[i][j]*Y[i][j] for j in range(0,len(X[0]))] for i in range(0,len(X))]\n",
    "for i in result:\n",
    "    print(i)\n"
   ]
  },
  {
   "cell_type": "markdown",
   "id": "5f688e46",
   "metadata": {},
   "source": [
    "### 3. Write a Python Program to Transpose a Matrix?"
   ]
  },
  {
   "cell_type": "code",
   "execution_count": 8,
   "id": "989d2b39",
   "metadata": {},
   "outputs": [
    {
     "name": "stdout",
     "output_type": "stream",
     "text": [
      "[12, 4, 3]\n",
      "[7, 5, 8]\n"
     ]
    }
   ],
   "source": [
    "X = [[12,7], [4 ,5], [3 ,8]]\n",
    "\n",
    "res =[[X[i][j] for i in range(0,len(X))] for j in range(0,len(X[0]))]\n",
    "for i in res:\n",
    "    print(i)    \n",
    "\n",
    "\n"
   ]
  },
  {
   "cell_type": "markdown",
   "id": "b2849025",
   "metadata": {},
   "source": [
    "\n",
    "### 4. Write a Python Program to Sort Words in Alphabetic Order?\n"
   ]
  },
  {
   "cell_type": "code",
   "execution_count": 9,
   "id": "cafb795f",
   "metadata": {},
   "outputs": [
    {
     "name": "stdout",
     "output_type": "stream",
     "text": [
      "['arun', 'gagan', 'pankaj', 'pihu', 'ravi']\n"
     ]
    }
   ],
   "source": [
    "ar=[\"arun\",\"gagan\",\"pihu\",\"pankaj\",\"ravi\"]\n",
    "ar.sort()\n",
    "print(ar)"
   ]
  },
  {
   "cell_type": "markdown",
   "id": "48ac7b24",
   "metadata": {},
   "source": [
    "### 5. Write a Python Program to Remove Punctuation From a String?"
   ]
  },
  {
   "cell_type": "code",
   "execution_count": 13,
   "id": "b4229eb5",
   "metadata": {},
   "outputs": [
    {
     "name": "stdout",
     "output_type": "stream",
     "text": [
      "hurry we have won the matchWill you win the match\n"
     ]
    }
   ],
   "source": [
    "ar ='hurry! we have won the match.Will you win the match?'\n",
    "\n",
    "# if ((ch>=97 and ch<=122) or (ch>=65 and ch<=90))\n",
    "# if ((ch>='a' and ch<='z') or (ch>='A' and ch<='Z'))\n",
    "str =''\n",
    "for ch in ar:\n",
    "    if ((ch>='a' and ch<='z') or (ch>='A' and ch<='Z') or ch==' '):\n",
    "        str+=ch\n",
    "\n",
    "print(str)     \n",
    "    \n",
    "    \n"
   ]
  }
 ],
 "metadata": {
  "kernelspec": {
   "display_name": "Python 3.10.0 64-bit",
   "language": "python",
   "name": "python3"
  },
  "language_info": {
   "codemirror_mode": {
    "name": "ipython",
    "version": 3
   },
   "file_extension": ".py",
   "mimetype": "text/x-python",
   "name": "python",
   "nbconvert_exporter": "python",
   "pygments_lexer": "ipython3",
   "version": "3.10.0"
  },
  "vscode": {
   "interpreter": {
    "hash": "944377379e12535b341fba11bb15d665e66987c036c7a23952c4d27b007480d2"
   }
  }
 },
 "nbformat": 4,
 "nbformat_minor": 5
}
