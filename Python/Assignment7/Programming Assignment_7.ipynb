{
 "cells": [
  {
   "cell_type": "markdown",
   "id": "35297a20",
   "metadata": {},
   "source": [
    "## Programming Basic Assignment 7"
   ]
  },
  {
   "cell_type": "markdown",
   "id": "27349114",
   "metadata": {},
   "source": [
    "### 1. Write a Python Program to find sum of array?"
   ]
  },
  {
   "cell_type": "code",
   "execution_count": 13,
   "id": "213ca135",
   "metadata": {},
   "outputs": [
    {
     "name": "stdout",
     "output_type": "stream",
     "text": [
      "3\n"
     ]
    }
   ],
   "source": [
    "size = int(input(\"Enter the size of an array\"))\n",
    "s=0\n",
    "lst=[]\n",
    "for _ in range(0,size):\n",
    "    lst.append(int(input()))\n",
    "\n",
    "print(sum(lst))"
   ]
  },
  {
   "cell_type": "markdown",
   "id": "171a980d",
   "metadata": {},
   "source": [
    "### 2. Write a Python Program to find largest element in an array?\n"
   ]
  },
  {
   "cell_type": "code",
   "execution_count": 20,
   "id": "6ce6044f",
   "metadata": {},
   "outputs": [
    {
     "name": "stdout",
     "output_type": "stream",
     "text": [
      "98\n"
     ]
    }
   ],
   "source": [
    "lst = list(int(i) for i in input(\"Enter array\").split(' '))\n",
    "max= lst[0]\n",
    "for i in lst:\n",
    "    if(i>max):\n",
    "        max=i\n",
    "print(max)"
   ]
  },
  {
   "cell_type": "markdown",
   "id": "21613246",
   "metadata": {},
   "source": [
    "### 3. Write a Python Program for array rotation?"
   ]
  },
  {
   "cell_type": "code",
   "execution_count": 24,
   "id": "44f8848c",
   "metadata": {},
   "outputs": [
    {
     "name": "stdout",
     "output_type": "stream",
     "text": [
      "[1, 2]\n",
      "[3, 4, 5, 1, 2]\n"
     ]
    }
   ],
   "source": [
    "lst = list(int(i) for i in input(\"Enter array\").split(' '))\n",
    "d= int(input(\"Enter the value to make rotation\"))   \n",
    "temp=[]\n",
    "i=0\n",
    "j=d\n",
    "while(i<d):\n",
    "    temp.append(lst[i])\n",
    "    i=i+1\n",
    "print(temp)\n",
    "\n",
    "for i in range(d,len(lst)):\n",
    "    lst[i-j]= lst[i]\n",
    "\n",
    "srt = len(lst)-d\n",
    "i=0\n",
    "for k in range(srt , len(lst)):\n",
    "    lst[k]=temp[i]\n",
    "    i=i+1\n",
    "\n",
    "print(lst)\n",
    "\n",
    "\n",
    "\n",
    "\n",
    "    "
   ]
  },
  {
   "cell_type": "markdown",
   "id": "3e52d939",
   "metadata": {},
   "source": [
    "### 4. Write a Python Program to Split the array and add the first part to the end?"
   ]
  },
  {
   "cell_type": "code",
   "execution_count": null,
   "id": "54357dd1",
   "metadata": {},
   "outputs": [],
   "source": [
    "lst = list(int(i) for i in input(\"Enter array\").split(' '))\n",
    "d= int(input(\"Enter the value to make rotation\"))   \n",
    "lst[:] = lst[d:len(lst)]+lst[0:d]\n",
    "print(lst)"
   ]
  },
  {
   "cell_type": "markdown",
   "id": "aa375779",
   "metadata": {},
   "source": [
    "### 5. Write a Python Program to check if given array is Monotonic?"
   ]
  },
  {
   "cell_type": "code",
   "execution_count": 5,
   "id": "7cdf7cbe",
   "metadata": {},
   "outputs": [
    {
     "data": {
      "text/plain": [
       "'not monotonic'"
      ]
     },
     "execution_count": 5,
     "metadata": {},
     "output_type": "execute_result"
    }
   ],
   "source": [
    "lst = list(int(i) for i in input(\"Enter array\").split(' '))\n",
    "lessFlag =0 \n",
    "moreFlag =0\n",
    "flag = True\n",
    "\n",
    "for i in range(0,len(lst)-1):\n",
    "    if(lst[i]<lst[i+1]):\n",
    "        if(moreFlag==0):\n",
    "             lessFlag+=1\n",
    "        else:\n",
    "            flag=False\n",
    "            break\n",
    "    elif(lst[i]>lst[i+1]):\n",
    "        if(lessFlag==0):\n",
    "            moreFlag=1\n",
    "        else:\n",
    "            flag=False\n",
    "            break\n",
    "     \n",
    "[\"monotonic\" if(flag) else \"not monotonic\"][0]\n",
    "\n",
    "\n",
    "\n"
   ]
  }
 ],
 "metadata": {
  "kernelspec": {
   "display_name": "Python 3.10.0 64-bit",
   "language": "python",
   "name": "python3"
  },
  "language_info": {
   "codemirror_mode": {
    "name": "ipython",
    "version": 3
   },
   "file_extension": ".py",
   "mimetype": "text/x-python",
   "name": "python",
   "nbconvert_exporter": "python",
   "pygments_lexer": "ipython3",
   "version": "3.10.0"
  },
  "vscode": {
   "interpreter": {
    "hash": "944377379e12535b341fba11bb15d665e66987c036c7a23952c4d27b007480d2"
   }
  }
 },
 "nbformat": 4,
 "nbformat_minor": 5
}
