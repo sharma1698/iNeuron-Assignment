{
 "cells": [
  {
   "cell_type": "markdown",
   "id": "3dcb940f",
   "metadata": {},
   "source": [
    "## Python Basic Programming Assignment 10"
   ]
  },
  {
   "cell_type": "markdown",
   "id": "6720790a",
   "metadata": {},
   "source": [
    "### 1. Write a Python program to find sum of elements in list?"
   ]
  },
  {
   "cell_type": "code",
   "execution_count": 1,
   "id": "e1f44750",
   "metadata": {},
   "outputs": [
    {
     "name": "stdout",
     "output_type": "stream",
     "text": [
      "15\n"
     ]
    }
   ],
   "source": [
    "lst = [int(i) for i in input(\"Enter number\").split()]\n",
    "s=0\n",
    "for i in lst:\n",
    "    s+=i\n",
    "print(s)\n"
   ]
  },
  {
   "cell_type": "markdown",
   "id": "fe1137c3",
   "metadata": {},
   "source": [
    "### 2. Write a Python program to  Multiply all numbers in the list?"
   ]
  },
  {
   "cell_type": "code",
   "execution_count": 3,
   "id": "d00c8def",
   "metadata": {},
   "outputs": [
    {
     "name": "stdout",
     "output_type": "stream",
     "text": [
      "24\n"
     ]
    }
   ],
   "source": [
    "lst = [int(i) for i in input(\"Enter number\").split()]\n",
    "p=1\n",
    "for i in lst:\n",
    "    p*=i\n",
    "print(p)"
   ]
  },
  {
   "cell_type": "markdown",
   "id": "078681db",
   "metadata": {},
   "source": [
    "### 3. Write a Python program to find smallest number in a list?"
   ]
  },
  {
   "cell_type": "code",
   "execution_count": 4,
   "id": "3dbbacbe",
   "metadata": {},
   "outputs": [
    {
     "name": "stdout",
     "output_type": "stream",
     "text": [
      "0\n"
     ]
    }
   ],
   "source": [
    "lst = [int(i) for i in input(\"Enter number\").split()]\n",
    "smaller = lst[0]\n",
    "for i in lst:\n",
    "    if(smaller>i):\n",
    "        smaller=i\n",
    "print(smaller)"
   ]
  },
  {
   "cell_type": "markdown",
   "id": "12b04397",
   "metadata": {},
   "source": [
    "### 4. Write a Python program to find largest number in a list?"
   ]
  },
  {
   "cell_type": "code",
   "execution_count": 5,
   "id": "276e7605",
   "metadata": {},
   "outputs": [
    {
     "name": "stdout",
     "output_type": "stream",
     "text": [
      "45\n"
     ]
    }
   ],
   "source": [
    "lst = [int(i) for i in input(\"Enter number\").split()]\n",
    "greater = lst[0]\n",
    "for i in lst:\n",
    "    if(greater<i):\n",
    "        greater=i\n",
    "print(greater)"
   ]
  },
  {
   "cell_type": "markdown",
   "id": "86442b51",
   "metadata": {},
   "source": [
    "### 5. Write a Python program to find second largest number in a list?"
   ]
  },
  {
   "cell_type": "code",
   "execution_count": 23,
   "id": "56296f77",
   "metadata": {},
   "outputs": [
    {
     "name": "stdout",
     "output_type": "stream",
     "text": [
      "13\n"
     ]
    }
   ],
   "source": [
    "lst = [int(i) for i in input(\"Enter number\").split()]\n",
    "max=lst[0]\n",
    "sec_largest= lst[0]\n",
    "for i in lst:\n",
    "    if(max<i):\n",
    "        sec_largest = max\n",
    "        max=i\n",
    "    elif(sec_largest<max and sec_largest<i):\n",
    "        sec_largest=i\n",
    "    \n",
    "print(sec_largest)\n",
    "\n"
   ]
  },
  {
   "cell_type": "markdown",
   "id": "10964d7d",
   "metadata": {},
   "source": [
    "### 6. Write a Python program to find N largest elements from a list?"
   ]
  },
  {
   "cell_type": "code",
   "execution_count": 35,
   "id": "755e69a7",
   "metadata": {},
   "outputs": [
    {
     "name": "stdout",
     "output_type": "stream",
     "text": [
      "3\n"
     ]
    }
   ],
   "source": [
    "# lst = [int(i) for i in input(\"Enter number\").split()]\n",
    "lst=[1 ,2 ,3, 4,2,3,1]\n",
    "lst.sort()\n",
    "new_arry = list(set(lst))\n",
    "n_elem = int(input(\"enter nth element\"))\n",
    "print(new_arry[len(new_arry)-n_elem])\n"
   ]
  },
  {
   "cell_type": "markdown",
   "id": "2f1a1e98",
   "metadata": {},
   "source": [
    "### 7. Write a Python program to print even numbers in a list?"
   ]
  },
  {
   "cell_type": "code",
   "execution_count": 6,
   "id": "0be02a65",
   "metadata": {},
   "outputs": [
    {
     "name": "stdout",
     "output_type": "stream",
     "text": [
      "[2, 4, 6]\n"
     ]
    }
   ],
   "source": [
    "lst = [int(i) for i in input(\"Enter number\").split()]\n",
    "evn_lst =[]\n",
    "for i in lst:\n",
    "    if(i%2==0):\n",
    "        evn_lst.append(i)\n",
    "print(evn_lst)"
   ]
  },
  {
   "cell_type": "markdown",
   "id": "989bb324",
   "metadata": {},
   "source": [
    "### 8. Write a Python program to print odd numbers in a List?"
   ]
  },
  {
   "cell_type": "code",
   "execution_count": 7,
   "id": "4e9e7043",
   "metadata": {},
   "outputs": [
    {
     "name": "stdout",
     "output_type": "stream",
     "text": [
      "[1, 23, 55]\n"
     ]
    }
   ],
   "source": [
    "lst = [int(i) for i in input(\"Enter number\").split()]\n",
    "odd_lst =[]\n",
    "for i in lst:\n",
    "    if(i%2==1):\n",
    "        odd_lst.append(i)\n",
    "print(odd_lst)"
   ]
  },
  {
   "cell_type": "markdown",
   "id": "185b7b13",
   "metadata": {},
   "source": [
    "### 9. Write a Python program to Remove empty List from List?"
   ]
  },
  {
   "cell_type": "code",
   "execution_count": 9,
   "id": "9aca0706",
   "metadata": {},
   "outputs": [
    {
     "name": "stdout",
     "output_type": "stream",
     "text": [
      "[1, 2, 3, 5, 1, 2, 1]\n"
     ]
    }
   ],
   "source": [
    "lst =[1 ,2, 3, [], 5, [] ,[],1,2,1]\n",
    "new_lst= []\n",
    "for i in lst:\n",
    "    if(type(i)==list and len(i)==0):\n",
    "        pass\n",
    "    else:\n",
    "        new_lst.append(i)\n",
    "\n",
    "print(new_lst)\n"
   ]
  },
  {
   "cell_type": "markdown",
   "id": "278cfacc",
   "metadata": {},
   "source": [
    "### 10. Write a Python program to Cloning or Copying a list?"
   ]
  },
  {
   "cell_type": "code",
   "execution_count": 10,
   "id": "1100fab4",
   "metadata": {},
   "outputs": [
    {
     "name": "stdout",
     "output_type": "stream",
     "text": [
      "[1, 2, 3, 4, 5, 13, 55, 1, 2, 1]\n"
     ]
    }
   ],
   "source": [
    "lst =[1 ,2, 3, 4, 5, 13,55,1,2,1]\n",
    "copy_lst= lst.copy()\n",
    "print(copy_lst)"
   ]
  },
  {
   "cell_type": "markdown",
   "id": "b359bedf",
   "metadata": {},
   "source": [
    "### 11. Write a Python program to Count occurrences of an element in a list?"
   ]
  },
  {
   "cell_type": "code",
   "execution_count": 1,
   "id": "2a5acd56",
   "metadata": {},
   "outputs": [
    {
     "name": "stdout",
     "output_type": "stream",
     "text": [
      "{1: 3, 2: 2, 3: 1, 4: 1, 5: 1, 13: 1, 55: 1}\n",
      "[3, 2, 1, 1, 1, 1, 1]\n"
     ]
    }
   ],
   "source": [
    "lst =[1 ,2, 3, 4, 5, 13,55,1,2,1]\n",
    "new_lst={}\n",
    "for i in lst:\n",
    "    if(i in new_lst):\n",
    "        new_lst[i]=new_lst[i]+1\n",
    "    else:\n",
    "        new_lst[i]=1\n",
    "\n",
    "print(new_lst)\n",
    "print(list(new_lst.values()))\n"
   ]
  }
 ],
 "metadata": {
  "kernelspec": {
   "display_name": "Python 3.10.0 64-bit",
   "language": "python",
   "name": "python3"
  },
  "language_info": {
   "codemirror_mode": {
    "name": "ipython",
    "version": 3
   },
   "file_extension": ".py",
   "mimetype": "text/x-python",
   "name": "python",
   "nbconvert_exporter": "python",
   "pygments_lexer": "ipython3",
   "version": "3.10.0"
  },
  "vscode": {
   "interpreter": {
    "hash": "944377379e12535b341fba11bb15d665e66987c036c7a23952c4d27b007480d2"
   }
  }
 },
 "nbformat": 4,
 "nbformat_minor": 5
}
