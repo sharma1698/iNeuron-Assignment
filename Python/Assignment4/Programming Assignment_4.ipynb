{
 "cells": [
  {
   "cell_type": "markdown",
   "id": "20cb4340",
   "metadata": {},
   "source": [
    "## Programming Assignment_4\n",
    "----------------"
   ]
  },
  {
   "cell_type": "markdown",
   "id": "4fdb6695",
   "metadata": {},
   "source": [
    "### 1. Write a Python Program to Find the Factorial of a Number?"
   ]
  },
  {
   "cell_type": "code",
   "execution_count": 29,
   "id": "34996440",
   "metadata": {},
   "outputs": [
    {
     "name": "stdout",
     "output_type": "stream",
     "text": [
      "120\n"
     ]
    }
   ],
   "source": [
    "num = int(input(\"Enter the number for factorial\"))\n",
    "fac=1\n",
    "for i in range(num, 1 , -1):\n",
    "    fac=fac*i\n",
    "print(fac)"
   ]
  },
  {
   "cell_type": "markdown",
   "id": "e6beef62",
   "metadata": {},
   "source": [
    "### 2. Write a Python Program to Display the multiplication Table?"
   ]
  },
  {
   "cell_type": "code",
   "execution_count": 26,
   "id": "230b586a",
   "metadata": {},
   "outputs": [
    {
     "name": "stdout",
     "output_type": "stream",
     "text": [
      "2 * 1 = 2\n",
      "2 * 2 = 4\n",
      "2 * 3 = 6\n",
      "2 * 4 = 8\n",
      "2 * 5 = 10\n",
      "2 * 6 = 12\n",
      "2 * 7 = 14\n",
      "2 * 8 = 16\n",
      "2 * 9 = 18\n",
      "2 * 10 = 20\n"
     ]
    }
   ],
   "source": [
    "num = int(input(\"Enter number to display multiplication table\"))\n",
    "for i in range(1, 11):\n",
    "    print(num,'*',i,'=',num*i)"
   ]
  },
  {
   "cell_type": "markdown",
   "id": "7de7eba5",
   "metadata": {},
   "source": [
    "### 3. Write a Python Program to Print the Fibonacci sequence?\n"
   ]
  },
  {
   "cell_type": "code",
   "execution_count": 23,
   "id": "0fa48d83",
   "metadata": {},
   "outputs": [
    {
     "name": "stdout",
     "output_type": "stream",
     "text": [
      "0\n",
      "1\n",
      "1\n",
      "2\n",
      "3\n"
     ]
    }
   ],
   "source": [
    "num1= 0 \n",
    "num2= 1\n",
    "size = int(input(\"Enter the sequence size\"))\n",
    "print(num1)\n",
    "print(num2)\n",
    "for i in range(2 , size+1):   \n",
    "    num3 = num1+num2    \n",
    "    print(num3)\n",
    "    num1= num2\n",
    "    num2= num3\n",
    "\n"
   ]
  },
  {
   "cell_type": "markdown",
   "id": "0446442e",
   "metadata": {},
   "source": [
    "### 4. Write a Python Program to Check Armstrong Number?"
   ]
  },
  {
   "cell_type": "code",
   "execution_count": 22,
   "id": "dca5b82c",
   "metadata": {},
   "outputs": [
    {
     "name": "stdout",
     "output_type": "stream",
     "text": [
      "not an armstrong number\n"
     ]
    }
   ],
   "source": [
    "s=0\n",
    "def chk_armstrong(num,s):\n",
    "    global real_num\n",
    "    if(num==0):\n",
    "        if(real_num==s):\n",
    "            print(\"{} ia an armstrong number\".format(real_num))\n",
    "        else:\n",
    "             print(\"{} is not an armstrong number\".format(real_num))\n",
    "        return 1\n",
    "    n = num//10\n",
    "    r = num % 10\n",
    "    s= s + r**3\n",
    "    num = n \n",
    "    chk_armstrong(num,s)\n",
    "    \n",
    "num1= real_num= int(input(\"Enter 3 digit number to check armstrong number or not\"))\n",
    "chk_armstrong(num1 ,s)\n",
    "\n"
   ]
  },
  {
   "cell_type": "markdown",
   "id": "a6f9adfe",
   "metadata": {},
   "source": [
    "### 5. Write a Python Program to Find Armstrong Number in an Interval?"
   ]
  },
  {
   "cell_type": "code",
   "execution_count": 33,
   "id": "1d3e52b3",
   "metadata": {},
   "outputs": [
    {
     "name": "stdout",
     "output_type": "stream",
     "text": [
      "23 is not an armstrong number\n"
     ]
    }
   ],
   "source": [
    "s=0\n",
    "def chk_armstrong(num,s):\n",
    "    global real_num\n",
    "    if(num==0):\n",
    "        if(real_num==s):\n",
    "            print(\"{} ia an armstrong number\".format(real_num))\n",
    "        else:\n",
    "             print(\"{} is not an armstrong number\".format(real_num))\n",
    "        return 1\n",
    "    n = num//10\n",
    "    r = num % 10\n",
    "    s= s + r**len(str(real_num))\n",
    "    num = n \n",
    "    chk_armstrong(num,s)\n",
    "    \n",
    "num1= real_num= int(input(\"Enter 3 digit number to check armstrong number or not\"))\n",
    "chk_armstrong(num1 ,s)"
   ]
  },
  {
   "cell_type": "markdown",
   "id": "157cad60",
   "metadata": {},
   "source": [
    "### 6. Write a Python Program to Find the Sum of Natural Numbers?"
   ]
  },
  {
   "cell_type": "code",
   "execution_count": 5,
   "id": "465f6efe",
   "metadata": {},
   "outputs": [
    {
     "name": "stdout",
     "output_type": "stream",
     "text": [
      "6.0\n"
     ]
    }
   ],
   "source": [
    "num = int(input(\"Enter natural number to sum\"))\n",
    "print((num*(num+1)/2))"
   ]
  }
 ],
 "metadata": {
  "kernelspec": {
   "display_name": "Python 3.10.0 64-bit",
   "language": "python",
   "name": "python3"
  },
  "language_info": {
   "codemirror_mode": {
    "name": "ipython",
    "version": 3
   },
   "file_extension": ".py",
   "mimetype": "text/x-python",
   "name": "python",
   "nbconvert_exporter": "python",
   "pygments_lexer": "ipython3",
   "version": "3.10.0"
  },
  "vscode": {
   "interpreter": {
    "hash": "944377379e12535b341fba11bb15d665e66987c036c7a23952c4d27b007480d2"
   }
  }
 },
 "nbformat": 4,
 "nbformat_minor": 5
}
