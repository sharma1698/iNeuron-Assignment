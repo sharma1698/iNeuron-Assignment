{
 "cells": [
  {
   "cell_type": "markdown",
   "id": "47b9bb99",
   "metadata": {},
   "source": [
    "## Programming Assignment_9\n",
    "----------------"
   ]
  },
  {
   "cell_type": "markdown",
   "id": "c725f7a9",
   "metadata": {},
   "source": [
    "### 1. Write a Python program to check if the given number is a Disarium Number?"
   ]
  },
  {
   "cell_type": "code",
   "execution_count": 44,
   "id": "d49d414d",
   "metadata": {},
   "outputs": [
    {
     "data": {
      "text/plain": [
       "'disarium number'"
      ]
     },
     "execution_count": 44,
     "metadata": {},
     "output_type": "execute_result"
    }
   ],
   "source": [
    "import math\n",
    "val = input(\"Enter number\")\n",
    "j=1\n",
    "s=0\n",
    "for i in val:\n",
    "    s=s+int(i)**j\n",
    "    j+=1\n",
    "[\"disarium number\" if(s==int(val)) else \"not disarium number\"][0]\n",
    "    \n"
   ]
  },
  {
   "cell_type": "markdown",
   "id": "f0064401",
   "metadata": {},
   "source": [
    "### 2. Write a Python program to print all disarium numbers between 1 to 100?"
   ]
  },
  {
   "cell_type": "code",
   "execution_count": 22,
   "id": "c50997ff",
   "metadata": {},
   "outputs": [
    {
     "name": "stdout",
     "output_type": "stream",
     "text": [
      "1 2 3 4 5 6 7 8 9 89 "
     ]
    }
   ],
   "source": [
    "\n",
    "for val in range(1,101):\n",
    "    j=1\n",
    "    s=0\n",
    "    for i in str(val):\n",
    "        s=s+int(i)**j\n",
    "        j+=1\n",
    "    if(s==val):\n",
    "        print(s,end=\" \")\n"
   ]
  },
  {
   "cell_type": "markdown",
   "id": "31df1e4a",
   "metadata": {},
   "source": [
    "### 3. Write a Python program to check if the given number is Happy Number?"
   ]
  },
  {
   "cell_type": "code",
   "execution_count": 53,
   "id": "3637937a",
   "metadata": {},
   "outputs": [
    {
     "name": "stdout",
     "output_type": "stream",
     "text": [
      "not a Happy number\n"
     ]
    }
   ],
   "source": [
    "val = int(input(\"Enter number\"))\n",
    "\n",
    "def isHappyNumber(val):\n",
    "    s=0\n",
    "    r=0\n",
    "    while(val>0):\n",
    "        r=val%10\n",
    "        s= s+r**2\n",
    "        val= val//10\n",
    "    return s\n",
    "\n",
    "result = val\n",
    "while(result!=1 and result!=4):\n",
    "    result= isHappyNumber(result)\n",
    "    if(result==1):\n",
    "        print(\"Happy number\")\n",
    "        break\n",
    "    elif(result==4):\n",
    "        print(\"not a Happy number\")\n",
    "        break\n",
    "   \n",
    "      "
   ]
  },
  {
   "cell_type": "markdown",
   "id": "51b265e3",
   "metadata": {},
   "source": [
    "### 4. Write a Python program to print all happy numbers between 1 and 100?"
   ]
  },
  {
   "cell_type": "code",
   "execution_count": 51,
   "id": "988a3742",
   "metadata": {},
   "outputs": [
    {
     "name": "stdout",
     "output_type": "stream",
     "text": [
      "1 is Happy number\n",
      "2 is not a Happy number\n",
      "3 is not a Happy number\n",
      "4 is not a Happy number\n",
      "5 is not a Happy number\n",
      "6 is not a Happy number\n",
      "7 is Happy number\n",
      "8 is not a Happy number\n",
      "9 is not a Happy number\n",
      "10 is Happy number\n",
      "11 is not a Happy number\n",
      "12 is not a Happy number\n",
      "13 is Happy number\n",
      "14 is not a Happy number\n",
      "15 is not a Happy number\n",
      "16 is not a Happy number\n",
      "17 is not a Happy number\n",
      "18 is not a Happy number\n",
      "19 is Happy number\n",
      "20 is not a Happy number\n",
      "21 is not a Happy number\n",
      "22 is not a Happy number\n",
      "23 is Happy number\n",
      "24 is not a Happy number\n",
      "25 is not a Happy number\n",
      "26 is not a Happy number\n",
      "27 is not a Happy number\n",
      "28 is Happy number\n",
      "29 is not a Happy number\n",
      "30 is not a Happy number\n",
      "31 is Happy number\n",
      "32 is Happy number\n",
      "33 is not a Happy number\n",
      "34 is not a Happy number\n",
      "35 is not a Happy number\n",
      "36 is not a Happy number\n",
      "37 is not a Happy number\n",
      "38 is not a Happy number\n",
      "39 is not a Happy number\n",
      "40 is not a Happy number\n",
      "41 is not a Happy number\n",
      "42 is not a Happy number\n",
      "43 is not a Happy number\n",
      "44 is Happy number\n",
      "45 is not a Happy number\n",
      "46 is not a Happy number\n",
      "47 is not a Happy number\n",
      "48 is not a Happy number\n",
      "49 is Happy number\n",
      "50 is not a Happy number\n",
      "51 is not a Happy number\n",
      "52 is not a Happy number\n",
      "53 is not a Happy number\n",
      "54 is not a Happy number\n",
      "55 is not a Happy number\n",
      "56 is not a Happy number\n",
      "57 is not a Happy number\n",
      "58 is not a Happy number\n",
      "59 is not a Happy number\n",
      "60 is not a Happy number\n",
      "61 is not a Happy number\n",
      "62 is not a Happy number\n",
      "63 is not a Happy number\n",
      "64 is not a Happy number\n",
      "65 is not a Happy number\n",
      "66 is not a Happy number\n",
      "67 is not a Happy number\n",
      "68 is Happy number\n",
      "69 is not a Happy number\n",
      "70 is Happy number\n",
      "71 is not a Happy number\n",
      "72 is not a Happy number\n",
      "73 is not a Happy number\n",
      "74 is not a Happy number\n",
      "75 is not a Happy number\n",
      "76 is not a Happy number\n",
      "77 is not a Happy number\n",
      "78 is not a Happy number\n",
      "79 is Happy number\n",
      "80 is not a Happy number\n",
      "81 is not a Happy number\n",
      "82 is Happy number\n",
      "83 is not a Happy number\n",
      "84 is not a Happy number\n",
      "85 is not a Happy number\n",
      "86 is Happy number\n",
      "87 is not a Happy number\n",
      "88 is not a Happy number\n",
      "89 is not a Happy number\n",
      "90 is not a Happy number\n",
      "91 is Happy number\n",
      "92 is not a Happy number\n",
      "93 is not a Happy number\n",
      "94 is Happy number\n",
      "95 is not a Happy number\n",
      "96 is not a Happy number\n",
      "97 is Happy number\n",
      "98 is not a Happy number\n",
      "99 is not a Happy number\n",
      "100 is Happy number\n"
     ]
    }
   ],
   "source": [
    "def isHappyNumber(val):\n",
    "    s=0\n",
    "    r=0\n",
    "    while(val>0):\n",
    "        r=val%10\n",
    "        s= s+r**2\n",
    "        val= val//10\n",
    "    return s\n",
    "\n",
    "for i in range(1,101):\n",
    "    result = i\n",
    "    while(result!=1 and result!=4):\n",
    "        result= isHappyNumber(result)\n",
    "    if(result==1):\n",
    "        print(\"{} is Happy number\".format(i))            \n",
    "    elif(result==4):\n",
    "        print(\"{} is not a Happy number\".format(i)) \n",
    "\n"
   ]
  },
  {
   "cell_type": "markdown",
   "id": "6a190ee0",
   "metadata": {},
   "source": [
    "### 5. Write a Python program to determine whether the given number is a Harshad Number?"
   ]
  },
  {
   "cell_type": "code",
   "execution_count": 58,
   "id": "e4481f4a",
   "metadata": {},
   "outputs": [
    {
     "name": "stdout",
     "output_type": "stream",
     "text": [
      "not a Harshad Number\n"
     ]
    }
   ],
   "source": [
    "val = input(\"Enter number\")\n",
    "s=0\n",
    "for i in val:\n",
    "    s+=int(i)\n",
    "if(int(val)%s==0):\n",
    "    print(\"Harshad Number\")\n",
    "else:\n",
    "    print(\"not a Harshad Number\")\n"
   ]
  },
  {
   "cell_type": "markdown",
   "id": "7a7ea92e",
   "metadata": {},
   "source": [
    "### 6. Write a Python program to print all pronic numbers between 1 and 100?"
   ]
  },
  {
   "cell_type": "code",
   "execution_count": 69,
   "id": "f43b3850",
   "metadata": {},
   "outputs": [
    {
     "name": "stdout",
     "output_type": "stream",
     "text": [
      "[0, 2, 6, 12, 20, 30, 42, 56, 72, 90]\n"
     ]
    }
   ],
   "source": [
    "pronic = []\n",
    "for i in range(0, 101):\n",
    "    product= i*(i+1)\n",
    "    if(product<=100):\n",
    "        pronic.append(i*(i+1))        \n",
    "    else:\n",
    "        break\n",
    "        \n",
    "print(pronic)\n"
   ]
  }
 ],
 "metadata": {
  "kernelspec": {
   "display_name": "Python 3.10.0 64-bit",
   "language": "python",
   "name": "python3"
  },
  "language_info": {
   "codemirror_mode": {
    "name": "ipython",
    "version": 3
   },
   "file_extension": ".py",
   "mimetype": "text/x-python",
   "name": "python",
   "nbconvert_exporter": "python",
   "pygments_lexer": "ipython3",
   "version": "3.10.0"
  },
  "vscode": {
   "interpreter": {
    "hash": "944377379e12535b341fba11bb15d665e66987c036c7a23952c4d27b007480d2"
   }
  }
 },
 "nbformat": 4,
 "nbformat_minor": 5
}
